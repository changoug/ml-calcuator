{
 "cells": [
  {
   "cell_type": "code",
   "execution_count": 25,
   "id": "eae5f37d",
   "metadata": {},
   "outputs": [],
   "source": [
    "import numpy as np\n",
    "import tensorflow as tf\n",
    "from tensorflow import keras\n",
    "from tensorflow.keras.models import Sequential\n",
    "from tensorflow.keras.layers import *\n",
    "from tensorflow.keras.optimizers import Adam\n",
    "from tensorflow.keras.metrics import mean_squared_error\n",
    "import sys\n",
    "from random import randint\n",
    "\n",
    "NUM_DATA_POINTS = 100000\n",
    "train_x = []\n",
    "train_y = []"
   ]
  },
  {
   "cell_type": "code",
   "execution_count": 26,
   "id": "e99bfc5d",
   "metadata": {},
   "outputs": [],
   "source": [
    "# 0=+, 1=-, 2=*, 3=/\n",
    "for i in range(NUM_DATA_POINTS):\n",
    "    random_int_1 = randint(0, 1000)\n",
    "    random_int_2 = randint(0, 1000)\n",
    "    train_x.append([random_int_1, random_int_2])\n",
    "    train_y.append(random_int_1 + random_int_2)"
   ]
  },
  {
   "cell_type": "code",
   "execution_count": 27,
   "id": "e69cf3ab",
   "metadata": {},
   "outputs": [],
   "source": [
    "train_x = np.array(train_x)\n",
    "train_y = np.array(train_y)"
   ]
  },
  {
   "cell_type": "code",
   "execution_count": 28,
   "id": "8af5d615",
   "metadata": {},
   "outputs": [],
   "source": [
    "# for i in range(NUM_DATA_POINTS):\n",
    "#     print(scaled_train_x[i], scaled_train_xs_2[i], train_y[i])"
   ]
  },
  {
   "cell_type": "code",
   "execution_count": 29,
   "id": "4d501591",
   "metadata": {},
   "outputs": [],
   "source": [
    "model = Sequential(\n",
    "    [\n",
    "        Dense(units=2, input_shape=(2,), kernel_initializer='normal', activation='relu'),\n",
    "        Dense(units=8, kernel_initializer='normal', activation='elu'),\n",
    "        Dense(units=1, kernel_initializer='normal', activation='elu')\n",
    "    ]\n",
    ")"
   ]
  },
  {
   "cell_type": "code",
   "execution_count": 30,
   "id": "83575ec9",
   "metadata": {},
   "outputs": [
    {
     "name": "stdout",
     "output_type": "stream",
     "text": [
      "Model: \"sequential_3\"\n",
      "_________________________________________________________________\n",
      " Layer (type)                Output Shape              Param #   \n",
      "=================================================================\n",
      " dense_9 (Dense)             (None, 2)                 6         \n",
      "                                                                 \n",
      " dense_10 (Dense)            (None, 8)                 24        \n",
      "                                                                 \n",
      " dense_11 (Dense)            (None, 1)                 9         \n",
      "                                                                 \n",
      "=================================================================\n",
      "Total params: 39\n",
      "Trainable params: 39\n",
      "Non-trainable params: 0\n",
      "_________________________________________________________________\n"
     ]
    }
   ],
   "source": [
    "model.summary()"
   ]
  },
  {
   "cell_type": "code",
   "execution_count": 31,
   "id": "c311876f",
   "metadata": {},
   "outputs": [],
   "source": [
    "model.compile(optimizer=Adam(learning_rate=0.001), loss=mean_squared_error, metrics=['mean_squared_error'])"
   ]
  },
  {
   "cell_type": "code",
   "execution_count": 32,
   "id": "9ba2d9e6",
   "metadata": {},
   "outputs": [
    {
     "name": "stdout",
     "output_type": "stream",
     "text": [
      "Epoch 1/30\n"
     ]
    },
    {
     "name": "stderr",
     "output_type": "stream",
     "text": [
      "2022-11-06 20:31:37.468747: I tensorflow/core/grappler/optimizers/custom_graph_optimizer_registry.cc:114] Plugin optimizer for device_type GPU is enabled.\n",
      "2022-11-06 20:31:52.475427: I tensorflow/core/grappler/optimizers/custom_graph_optimizer_registry.cc:114] Plugin optimizer for device_type GPU is enabled.\n"
     ]
    },
    {
     "name": "stdout",
     "output_type": "stream",
     "text": [
      "2500/2500 - 17s - loss: 100921.7578 - mean_squared_error: 100921.7578 - val_loss: 1.8885 - val_mean_squared_error: 1.8885 - 17s/epoch - 7ms/step\n",
      "Epoch 2/30\n",
      "2500/2500 - 16s - loss: 1.7809 - mean_squared_error: 1.7809 - val_loss: 1.5922 - val_mean_squared_error: 1.5922 - 16s/epoch - 6ms/step\n",
      "Epoch 3/30\n",
      "2500/2500 - 15s - loss: 1.2810 - mean_squared_error: 1.2810 - val_loss: 0.8771 - val_mean_squared_error: 0.8771 - 15s/epoch - 6ms/step\n",
      "Epoch 4/30\n",
      "2500/2500 - 15s - loss: 0.3880 - mean_squared_error: 0.3880 - val_loss: 0.0407 - val_mean_squared_error: 0.0407 - 15s/epoch - 6ms/step\n",
      "Epoch 5/30\n",
      "2500/2500 - 15s - loss: 0.0087 - mean_squared_error: 0.0087 - val_loss: 1.9346e-05 - val_mean_squared_error: 1.9346e-05 - 15s/epoch - 6ms/step\n",
      "Epoch 6/30\n",
      "2500/2500 - 15s - loss: 0.0471 - mean_squared_error: 0.0471 - val_loss: 1.6260e-05 - val_mean_squared_error: 1.6260e-05 - 15s/epoch - 6ms/step\n",
      "Epoch 7/30\n",
      "2500/2500 - 15s - loss: 0.0361 - mean_squared_error: 0.0361 - val_loss: 1.8119e-04 - val_mean_squared_error: 1.8119e-04 - 15s/epoch - 6ms/step\n",
      "Epoch 8/30\n",
      "2500/2500 - 15s - loss: 0.0568 - mean_squared_error: 0.0568 - val_loss: 1.6213e-04 - val_mean_squared_error: 1.6213e-04 - 15s/epoch - 6ms/step\n",
      "Epoch 9/30\n",
      "2500/2500 - 15s - loss: 0.0280 - mean_squared_error: 0.0280 - val_loss: 5.9222e-04 - val_mean_squared_error: 5.9222e-04 - 15s/epoch - 6ms/step\n",
      "Epoch 10/30\n",
      "2500/2500 - 16s - loss: 0.0301 - mean_squared_error: 0.0301 - val_loss: 0.0069 - val_mean_squared_error: 0.0069 - 16s/epoch - 6ms/step\n",
      "Epoch 11/30\n",
      "2500/2500 - 15s - loss: 0.0720 - mean_squared_error: 0.0720 - val_loss: 8.2030e-06 - val_mean_squared_error: 8.2030e-06 - 15s/epoch - 6ms/step\n",
      "Epoch 12/30\n",
      "2500/2500 - 15s - loss: 0.0408 - mean_squared_error: 0.0408 - val_loss: 3.4284e-05 - val_mean_squared_error: 3.4284e-05 - 15s/epoch - 6ms/step\n",
      "Epoch 13/30\n",
      "2500/2500 - 15s - loss: 0.0324 - mean_squared_error: 0.0324 - val_loss: 3.5693e-04 - val_mean_squared_error: 3.5693e-04 - 15s/epoch - 6ms/step\n",
      "Epoch 14/30\n",
      "2500/2500 - 15s - loss: 0.0363 - mean_squared_error: 0.0363 - val_loss: 8.2316e-05 - val_mean_squared_error: 8.2316e-05 - 15s/epoch - 6ms/step\n",
      "Epoch 15/30\n",
      "2500/2500 - 15s - loss: 0.0292 - mean_squared_error: 0.0292 - val_loss: 1.0344e-05 - val_mean_squared_error: 1.0344e-05 - 15s/epoch - 6ms/step\n",
      "Epoch 16/30\n",
      "2500/2500 - 15s - loss: 0.0426 - mean_squared_error: 0.0426 - val_loss: 1.5257e-06 - val_mean_squared_error: 1.5257e-06 - 15s/epoch - 6ms/step\n",
      "Epoch 17/30\n",
      "2500/2500 - 15s - loss: 0.0265 - mean_squared_error: 0.0265 - val_loss: 5.8577e-07 - val_mean_squared_error: 5.8577e-07 - 15s/epoch - 6ms/step\n",
      "Epoch 18/30\n",
      "2500/2500 - 15s - loss: 0.0546 - mean_squared_error: 0.0546 - val_loss: 6.0771e-05 - val_mean_squared_error: 6.0771e-05 - 15s/epoch - 6ms/step\n",
      "Epoch 19/30\n",
      "2500/2500 - 15s - loss: 0.0225 - mean_squared_error: 0.0225 - val_loss: 0.0364 - val_mean_squared_error: 0.0364 - 15s/epoch - 6ms/step\n",
      "Epoch 20/30\n",
      "2500/2500 - 16s - loss: 0.0398 - mean_squared_error: 0.0398 - val_loss: 0.0419 - val_mean_squared_error: 0.0419 - 16s/epoch - 6ms/step\n",
      "Epoch 21/30\n",
      "2500/2500 - 16s - loss: 0.0429 - mean_squared_error: 0.0429 - val_loss: 4.3328e-06 - val_mean_squared_error: 4.3328e-06 - 16s/epoch - 6ms/step\n",
      "Epoch 22/30\n",
      "2500/2500 - 15s - loss: 0.0609 - mean_squared_error: 0.0609 - val_loss: 0.0017 - val_mean_squared_error: 0.0017 - 15s/epoch - 6ms/step\n",
      "Epoch 23/30\n",
      "2500/2500 - 15s - loss: 0.0288 - mean_squared_error: 0.0288 - val_loss: 1.4444e-06 - val_mean_squared_error: 1.4444e-06 - 15s/epoch - 6ms/step\n",
      "Epoch 24/30\n",
      "2500/2500 - 15s - loss: 0.0486 - mean_squared_error: 0.0486 - val_loss: 6.3732e-07 - val_mean_squared_error: 6.3732e-07 - 15s/epoch - 6ms/step\n",
      "Epoch 25/30\n",
      "2500/2500 - 15s - loss: 0.0330 - mean_squared_error: 0.0330 - val_loss: 1.5371e-06 - val_mean_squared_error: 1.5371e-06 - 15s/epoch - 6ms/step\n",
      "Epoch 26/30\n",
      "2500/2500 - 15s - loss: 0.0381 - mean_squared_error: 0.0381 - val_loss: 0.0025 - val_mean_squared_error: 0.0025 - 15s/epoch - 6ms/step\n",
      "Epoch 27/30\n",
      "2500/2500 - 15s - loss: 0.0680 - mean_squared_error: 0.0680 - val_loss: 1.0501e-07 - val_mean_squared_error: 1.0501e-07 - 15s/epoch - 6ms/step\n",
      "Epoch 28/30\n",
      "2500/2500 - 15s - loss: 0.0217 - mean_squared_error: 0.0217 - val_loss: 8.4476e-05 - val_mean_squared_error: 8.4476e-05 - 15s/epoch - 6ms/step\n",
      "Epoch 29/30\n",
      "2500/2500 - 15s - loss: 0.0425 - mean_squared_error: 0.0425 - val_loss: 9.7427e-08 - val_mean_squared_error: 9.7427e-08 - 15s/epoch - 6ms/step\n",
      "Epoch 30/30\n",
      "2500/2500 - 15s - loss: 0.0385 - mean_squared_error: 0.0385 - val_loss: 4.5785e-05 - val_mean_squared_error: 4.5785e-05 - 15s/epoch - 6ms/step\n"
     ]
    },
    {
     "data": {
      "text/plain": [
       "<keras.callbacks.History at 0x2a89a2490>"
      ]
     },
     "execution_count": 32,
     "metadata": {},
     "output_type": "execute_result"
    }
   ],
   "source": [
    "model.fit(x=[train_x], y=train_y, batch_size=32, epochs=30, verbose=2, validation_split = 0.2)"
   ]
  },
  {
   "cell_type": "code",
   "execution_count": 33,
   "id": "4e60d8d5",
   "metadata": {},
   "outputs": [],
   "source": [
    "model.save('/Users/changoug/Desktop/projects/coding/machine-learning-calculator/ml_add.h5')"
   ]
  },
  {
   "cell_type": "code",
   "execution_count": 34,
   "id": "6e57bdfd",
   "metadata": {},
   "outputs": [
    {
     "name": "stdout",
     "output_type": "stream",
     "text": [
      "Model: \"sequential_3\"\n",
      "_________________________________________________________________\n",
      " Layer (type)                Output Shape              Param #   \n",
      "=================================================================\n",
      " dense_9 (Dense)             (None, 2)                 6         \n",
      "                                                                 \n",
      " dense_10 (Dense)            (None, 8)                 24        \n",
      "                                                                 \n",
      " dense_11 (Dense)            (None, 1)                 9         \n",
      "                                                                 \n",
      "=================================================================\n",
      "Total params: 39\n",
      "Trainable params: 39\n",
      "Non-trainable params: 0\n",
      "_________________________________________________________________\n"
     ]
    }
   ],
   "source": [
    "new_model = tf.keras.models.load_model('/Users/changoug/Desktop/projects/coding/machine-learning-calculator/ml_add.h5')\n",
    "\n",
    "# Check its architecture\n",
    "new_model.summary()"
   ]
  },
  {
   "cell_type": "code",
   "execution_count": 35,
   "id": "427f9f09",
   "metadata": {},
   "outputs": [
    {
     "name": "stderr",
     "output_type": "stream",
     "text": [
      "2022-11-06 20:39:21.402989: I tensorflow/core/grappler/optimizers/custom_graph_optimizer_registry.cc:114] Plugin optimizer for device_type GPU is enabled.\n"
     ]
    },
    {
     "name": "stdout",
     "output_type": "stream",
     "text": [
      "1/1 [==============================] - 0s 279ms/step\n",
      "[195 111] [[305.99792]] 306\n",
      "1/1 [==============================] - 0s 12ms/step\n",
      "[237 337] [[573.99646]] 574\n",
      "1/1 [==============================] - 0s 12ms/step\n",
      "[596 551] [[1146.9928]] 1147\n",
      "1/1 [==============================] - 0s 12ms/step\n",
      "[170 691] [[860.99457]] 861\n",
      "1/1 [==============================] - 0s 12ms/step\n",
      "[  9 404] [[412.9973]] 413\n",
      "1/1 [==============================] - 0s 12ms/step\n",
      "[391 931] [[1321.9916]] 1322\n",
      "1/1 [==============================] - 0s 12ms/step\n",
      "[428 198] [[625.99615]] 626\n",
      "1/1 [==============================] - 0s 13ms/step\n",
      "[850 657] [[1506.9906]] 1507\n",
      "1/1 [==============================] - 0s 13ms/step\n",
      "[139 198] [[336.99777]] 337\n",
      "1/1 [==============================] - 0s 13ms/step\n",
      "[496 154] [[649.9961]] 650\n"
     ]
    }
   ],
   "source": [
    "\n",
    "for i in range(10):\n",
    "  ans = model.predict(np.array([train_x[i]]))\n",
    "  print(train_x[i], ans, train_y[i])"
   ]
  }
 ],
 "metadata": {
  "kernelspec": {
   "display_name": "Python 3.9.12 ('base')",
   "language": "python",
   "name": "python3"
  },
  "language_info": {
   "codemirror_mode": {
    "name": "ipython",
    "version": 3
   },
   "file_extension": ".py",
   "mimetype": "text/x-python",
   "name": "python",
   "nbconvert_exporter": "python",
   "pygments_lexer": "ipython3",
   "version": "3.9.12"
  },
  "vscode": {
   "interpreter": {
    "hash": "bdec6b8f84b0a1027f5bda989eb17059c86bd89cd83c19ad20191402419f2f0c"
   }
  }
 },
 "nbformat": 4,
 "nbformat_minor": 5
}
