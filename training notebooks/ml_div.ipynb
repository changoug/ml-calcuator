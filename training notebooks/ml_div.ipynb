{
 "cells": [
  {
   "cell_type": "code",
   "execution_count": 292,
   "id": "eae5f37d",
   "metadata": {},
   "outputs": [],
   "source": [
    "import numpy as np\n",
    "import tensorflow as tf\n",
    "from tensorflow import keras\n",
    "from tensorflow.keras.models import Sequential\n",
    "from tensorflow.keras.layers import *\n",
    "from tensorflow.keras.optimizers import Adam\n",
    "from tensorflow.keras.metrics import mean_squared_error\n",
    "import sys\n",
    "from random import randint\n",
    "from sklearn.preprocessing import MinMaxScaler\n",
    "\n",
    "NUM_DATA_POINTS = 10000\n",
    "train_x = []\n",
    "train_y = []"
   ]
  },
  {
   "cell_type": "code",
   "execution_count": 293,
   "id": "e99bfc5d",
   "metadata": {},
   "outputs": [],
   "source": [
    "# 0=+, 1=-, 2=*, 3=/\n",
    "for i in range(NUM_DATA_POINTS):\n",
    "    random_int_1 = randint(1, 10)\n",
    "    random_int_2 = randint(1, 100)\n",
    "    train_x.append([random_int_1 * random_int_2, random_int_2])\n",
    "    train_y.append(random_int_1)"
   ]
  },
  {
   "cell_type": "code",
   "execution_count": 294,
   "id": "e69cf3ab",
   "metadata": {},
   "outputs": [],
   "source": [
    "train_x = np.array(train_x)\n",
    "train_y = np.array(train_y)"
   ]
  },
  {
   "cell_type": "code",
   "execution_count": 295,
   "id": "4d501591",
   "metadata": {},
   "outputs": [],
   "source": [
    "model = Sequential(\n",
    "    [\n",
    "        Dense(units=2, input_shape=(2,), kernel_initializer='normal', activation='relu'),\n",
    "        Dense(units=16, kernel_initializer='normal', activation='tanh'),\n",
    "        Dense(units=1, kernel_initializer='normal', activation='relu')\n",
    "    ]\n",
    ")"
   ]
  },
  {
   "cell_type": "code",
   "execution_count": 296,
   "id": "c311876f",
   "metadata": {},
   "outputs": [],
   "source": [
    "model.compile(optimizer=Adam(learning_rate=0.001), loss=mean_squared_error, metrics=['mean_squared_error'])"
   ]
  },
  {
   "cell_type": "code",
   "execution_count": 297,
   "id": "9ba2d9e6",
   "metadata": {},
   "outputs": [
    {
     "name": "stdout",
     "output_type": "stream",
     "text": [
      "Epoch 1/100\n"
     ]
    },
    {
     "name": "stderr",
     "output_type": "stream",
     "text": [
      "2022-11-06 23:49:58.556609: I tensorflow/core/grappler/optimizers/custom_graph_optimizer_registry.cc:114] Plugin optimizer for device_type GPU is enabled.\n",
      "2022-11-06 23:49:59.610499: I tensorflow/core/grappler/optimizers/custom_graph_optimizer_registry.cc:114] Plugin optimizer for device_type GPU is enabled.\n"
     ]
    },
    {
     "name": "stdout",
     "output_type": "stream",
     "text": [
      "250/250 - 1s - loss: 18.9628 - mean_squared_error: 18.9628 - val_loss: 9.8591 - val_mean_squared_error: 9.8591 - 1s/epoch - 6ms/step\n",
      "Epoch 2/100\n",
      "250/250 - 1s - loss: 6.8525 - mean_squared_error: 6.8525 - val_loss: 3.7501 - val_mean_squared_error: 3.7501 - 992ms/epoch - 4ms/step\n",
      "Epoch 3/100\n",
      "250/250 - 1s - loss: 2.2887 - mean_squared_error: 2.2887 - val_loss: 1.2334 - val_mean_squared_error: 1.2334 - 967ms/epoch - 4ms/step\n",
      "Epoch 4/100\n",
      "250/250 - 1s - loss: 0.8309 - mean_squared_error: 0.8309 - val_loss: 0.5163 - val_mean_squared_error: 0.5163 - 969ms/epoch - 4ms/step\n",
      "Epoch 5/100\n",
      "250/250 - 1s - loss: 0.3985 - mean_squared_error: 0.3985 - val_loss: 0.2735 - val_mean_squared_error: 0.2735 - 1s/epoch - 4ms/step\n",
      "Epoch 6/100\n",
      "250/250 - 1s - loss: 0.2501 - mean_squared_error: 0.2501 - val_loss: 0.1832 - val_mean_squared_error: 0.1832 - 1s/epoch - 4ms/step\n",
      "Epoch 7/100\n",
      "250/250 - 1s - loss: 0.1856 - mean_squared_error: 0.1856 - val_loss: 0.1376 - val_mean_squared_error: 0.1376 - 976ms/epoch - 4ms/step\n",
      "Epoch 8/100\n",
      "250/250 - 1s - loss: 0.1541 - mean_squared_error: 0.1541 - val_loss: 0.1197 - val_mean_squared_error: 0.1197 - 946ms/epoch - 4ms/step\n",
      "Epoch 9/100\n",
      "250/250 - 1s - loss: 0.1366 - mean_squared_error: 0.1366 - val_loss: 0.1047 - val_mean_squared_error: 0.1047 - 944ms/epoch - 4ms/step\n",
      "Epoch 10/100\n",
      "250/250 - 1s - loss: 0.1259 - mean_squared_error: 0.1259 - val_loss: 0.0950 - val_mean_squared_error: 0.0950 - 947ms/epoch - 4ms/step\n",
      "Epoch 11/100\n",
      "250/250 - 1s - loss: 0.1168 - mean_squared_error: 0.1168 - val_loss: 0.0957 - val_mean_squared_error: 0.0957 - 946ms/epoch - 4ms/step\n",
      "Epoch 12/100\n",
      "250/250 - 1s - loss: 0.1096 - mean_squared_error: 0.1096 - val_loss: 0.0833 - val_mean_squared_error: 0.0833 - 989ms/epoch - 4ms/step\n",
      "Epoch 13/100\n",
      "250/250 - 1s - loss: 0.1035 - mean_squared_error: 0.1035 - val_loss: 0.0799 - val_mean_squared_error: 0.0799 - 970ms/epoch - 4ms/step\n",
      "Epoch 14/100\n",
      "250/250 - 1s - loss: 0.0980 - mean_squared_error: 0.0980 - val_loss: 0.0788 - val_mean_squared_error: 0.0788 - 981ms/epoch - 4ms/step\n",
      "Epoch 15/100\n",
      "250/250 - 1s - loss: 0.0931 - mean_squared_error: 0.0931 - val_loss: 0.0736 - val_mean_squared_error: 0.0736 - 982ms/epoch - 4ms/step\n",
      "Epoch 16/100\n",
      "250/250 - 1s - loss: 0.0896 - mean_squared_error: 0.0896 - val_loss: 0.0676 - val_mean_squared_error: 0.0676 - 992ms/epoch - 4ms/step\n",
      "Epoch 17/100\n",
      "250/250 - 1s - loss: 0.0877 - mean_squared_error: 0.0877 - val_loss: 0.0680 - val_mean_squared_error: 0.0680 - 938ms/epoch - 4ms/step\n",
      "Epoch 18/100\n",
      "250/250 - 1s - loss: 0.0835 - mean_squared_error: 0.0835 - val_loss: 0.0624 - val_mean_squared_error: 0.0624 - 932ms/epoch - 4ms/step\n",
      "Epoch 19/100\n",
      "250/250 - 1s - loss: 0.0809 - mean_squared_error: 0.0809 - val_loss: 0.0677 - val_mean_squared_error: 0.0677 - 930ms/epoch - 4ms/step\n",
      "Epoch 20/100\n",
      "250/250 - 1s - loss: 0.0790 - mean_squared_error: 0.0790 - val_loss: 0.0654 - val_mean_squared_error: 0.0654 - 928ms/epoch - 4ms/step\n",
      "Epoch 21/100\n",
      "250/250 - 1s - loss: 0.0762 - mean_squared_error: 0.0762 - val_loss: 0.0597 - val_mean_squared_error: 0.0597 - 1000ms/epoch - 4ms/step\n",
      "Epoch 22/100\n",
      "250/250 - 1s - loss: 0.0745 - mean_squared_error: 0.0745 - val_loss: 0.0581 - val_mean_squared_error: 0.0581 - 1s/epoch - 5ms/step\n",
      "Epoch 23/100\n",
      "250/250 - 1s - loss: 0.0727 - mean_squared_error: 0.0727 - val_loss: 0.0621 - val_mean_squared_error: 0.0621 - 937ms/epoch - 4ms/step\n",
      "Epoch 24/100\n",
      "250/250 - 1s - loss: 0.0718 - mean_squared_error: 0.0718 - val_loss: 0.0547 - val_mean_squared_error: 0.0547 - 923ms/epoch - 4ms/step\n",
      "Epoch 25/100\n",
      "250/250 - 1s - loss: 0.0699 - mean_squared_error: 0.0699 - val_loss: 0.0537 - val_mean_squared_error: 0.0537 - 916ms/epoch - 4ms/step\n",
      "Epoch 26/100\n",
      "250/250 - 1s - loss: 0.0680 - mean_squared_error: 0.0680 - val_loss: 0.0525 - val_mean_squared_error: 0.0525 - 915ms/epoch - 4ms/step\n",
      "Epoch 27/100\n",
      "250/250 - 1s - loss: 0.0686 - mean_squared_error: 0.0686 - val_loss: 0.0534 - val_mean_squared_error: 0.0534 - 921ms/epoch - 4ms/step\n",
      "Epoch 28/100\n",
      "250/250 - 1s - loss: 0.0661 - mean_squared_error: 0.0661 - val_loss: 0.0516 - val_mean_squared_error: 0.0516 - 919ms/epoch - 4ms/step\n",
      "Epoch 29/100\n",
      "250/250 - 1s - loss: 0.0656 - mean_squared_error: 0.0656 - val_loss: 0.0560 - val_mean_squared_error: 0.0560 - 917ms/epoch - 4ms/step\n",
      "Epoch 30/100\n",
      "250/250 - 1s - loss: 0.0648 - mean_squared_error: 0.0648 - val_loss: 0.0529 - val_mean_squared_error: 0.0529 - 920ms/epoch - 4ms/step\n",
      "Epoch 31/100\n",
      "250/250 - 1s - loss: 0.0640 - mean_squared_error: 0.0640 - val_loss: 0.0497 - val_mean_squared_error: 0.0497 - 918ms/epoch - 4ms/step\n",
      "Epoch 32/100\n",
      "250/250 - 1s - loss: 0.0600 - mean_squared_error: 0.0600 - val_loss: 0.0489 - val_mean_squared_error: 0.0489 - 918ms/epoch - 4ms/step\n",
      "Epoch 33/100\n",
      "250/250 - 1s - loss: 0.0580 - mean_squared_error: 0.0580 - val_loss: 0.0472 - val_mean_squared_error: 0.0472 - 916ms/epoch - 4ms/step\n",
      "Epoch 34/100\n",
      "250/250 - 1s - loss: 0.0630 - mean_squared_error: 0.0630 - val_loss: 0.0498 - val_mean_squared_error: 0.0498 - 921ms/epoch - 4ms/step\n",
      "Epoch 35/100\n",
      "250/250 - 1s - loss: 0.0563 - mean_squared_error: 0.0563 - val_loss: 0.0485 - val_mean_squared_error: 0.0485 - 930ms/epoch - 4ms/step\n",
      "Epoch 36/100\n",
      "250/250 - 1s - loss: 0.0557 - mean_squared_error: 0.0557 - val_loss: 0.0456 - val_mean_squared_error: 0.0456 - 930ms/epoch - 4ms/step\n",
      "Epoch 37/100\n",
      "250/250 - 1s - loss: 0.0583 - mean_squared_error: 0.0583 - val_loss: 0.0440 - val_mean_squared_error: 0.0440 - 995ms/epoch - 4ms/step\n",
      "Epoch 38/100\n",
      "250/250 - 1s - loss: 0.0554 - mean_squared_error: 0.0554 - val_loss: 0.0487 - val_mean_squared_error: 0.0487 - 918ms/epoch - 4ms/step\n",
      "Epoch 39/100\n",
      "250/250 - 1s - loss: 0.0542 - mean_squared_error: 0.0542 - val_loss: 0.0442 - val_mean_squared_error: 0.0442 - 916ms/epoch - 4ms/step\n",
      "Epoch 40/100\n",
      "250/250 - 1s - loss: 0.0539 - mean_squared_error: 0.0539 - val_loss: 0.0432 - val_mean_squared_error: 0.0432 - 1s/epoch - 4ms/step\n",
      "Epoch 41/100\n",
      "250/250 - 1s - loss: 0.0549 - mean_squared_error: 0.0549 - val_loss: 0.0423 - val_mean_squared_error: 0.0423 - 967ms/epoch - 4ms/step\n",
      "Epoch 42/100\n",
      "250/250 - 1s - loss: 0.0523 - mean_squared_error: 0.0523 - val_loss: 0.0430 - val_mean_squared_error: 0.0430 - 923ms/epoch - 4ms/step\n",
      "Epoch 43/100\n",
      "250/250 - 1s - loss: 0.0528 - mean_squared_error: 0.0528 - val_loss: 0.0416 - val_mean_squared_error: 0.0416 - 914ms/epoch - 4ms/step\n",
      "Epoch 44/100\n",
      "250/250 - 1s - loss: 0.0551 - mean_squared_error: 0.0551 - val_loss: 0.0420 - val_mean_squared_error: 0.0420 - 914ms/epoch - 4ms/step\n",
      "Epoch 45/100\n",
      "250/250 - 1s - loss: 0.0510 - mean_squared_error: 0.0510 - val_loss: 0.0462 - val_mean_squared_error: 0.0462 - 918ms/epoch - 4ms/step\n",
      "Epoch 46/100\n",
      "250/250 - 1s - loss: 0.0510 - mean_squared_error: 0.0510 - val_loss: 0.0435 - val_mean_squared_error: 0.0435 - 914ms/epoch - 4ms/step\n",
      "Epoch 47/100\n",
      "250/250 - 1s - loss: 0.0511 - mean_squared_error: 0.0511 - val_loss: 0.0410 - val_mean_squared_error: 0.0410 - 916ms/epoch - 4ms/step\n",
      "Epoch 48/100\n",
      "250/250 - 1s - loss: 0.0503 - mean_squared_error: 0.0503 - val_loss: 0.0419 - val_mean_squared_error: 0.0419 - 916ms/epoch - 4ms/step\n",
      "Epoch 49/100\n",
      "250/250 - 1s - loss: 0.0518 - mean_squared_error: 0.0518 - val_loss: 0.0414 - val_mean_squared_error: 0.0414 - 919ms/epoch - 4ms/step\n",
      "Epoch 50/100\n",
      "250/250 - 1s - loss: 0.0501 - mean_squared_error: 0.0501 - val_loss: 0.0421 - val_mean_squared_error: 0.0421 - 1s/epoch - 4ms/step\n",
      "Epoch 51/100\n",
      "250/250 - 1s - loss: 0.0518 - mean_squared_error: 0.0518 - val_loss: 0.0418 - val_mean_squared_error: 0.0418 - 982ms/epoch - 4ms/step\n",
      "Epoch 52/100\n",
      "250/250 - 1s - loss: 0.0525 - mean_squared_error: 0.0525 - val_loss: 0.0418 - val_mean_squared_error: 0.0418 - 1s/epoch - 4ms/step\n",
      "Epoch 53/100\n",
      "250/250 - 1s - loss: 0.0481 - mean_squared_error: 0.0481 - val_loss: 0.0408 - val_mean_squared_error: 0.0408 - 987ms/epoch - 4ms/step\n",
      "Epoch 54/100\n",
      "250/250 - 1s - loss: 0.0499 - mean_squared_error: 0.0499 - val_loss: 0.0428 - val_mean_squared_error: 0.0428 - 945ms/epoch - 4ms/step\n",
      "Epoch 55/100\n",
      "250/250 - 1s - loss: 0.0502 - mean_squared_error: 0.0502 - val_loss: 0.0426 - val_mean_squared_error: 0.0426 - 921ms/epoch - 4ms/step\n",
      "Epoch 56/100\n",
      "250/250 - 1s - loss: 0.0487 - mean_squared_error: 0.0487 - val_loss: 0.0420 - val_mean_squared_error: 0.0420 - 954ms/epoch - 4ms/step\n",
      "Epoch 57/100\n",
      "250/250 - 1s - loss: 0.0475 - mean_squared_error: 0.0475 - val_loss: 0.0427 - val_mean_squared_error: 0.0427 - 937ms/epoch - 4ms/step\n",
      "Epoch 58/100\n",
      "250/250 - 1s - loss: 0.0473 - mean_squared_error: 0.0473 - val_loss: 0.0407 - val_mean_squared_error: 0.0407 - 903ms/epoch - 4ms/step\n",
      "Epoch 59/100\n",
      "250/250 - 1s - loss: 0.0498 - mean_squared_error: 0.0498 - val_loss: 0.0398 - val_mean_squared_error: 0.0398 - 906ms/epoch - 4ms/step\n",
      "Epoch 60/100\n",
      "250/250 - 1s - loss: 0.0483 - mean_squared_error: 0.0483 - val_loss: 0.0395 - val_mean_squared_error: 0.0395 - 901ms/epoch - 4ms/step\n",
      "Epoch 61/100\n",
      "250/250 - 1s - loss: 0.0474 - mean_squared_error: 0.0474 - val_loss: 0.0396 - val_mean_squared_error: 0.0396 - 901ms/epoch - 4ms/step\n",
      "Epoch 62/100\n",
      "250/250 - 1s - loss: 0.0478 - mean_squared_error: 0.0478 - val_loss: 0.0389 - val_mean_squared_error: 0.0389 - 980ms/epoch - 4ms/step\n",
      "Epoch 63/100\n",
      "250/250 - 1s - loss: 0.0490 - mean_squared_error: 0.0490 - val_loss: 0.0418 - val_mean_squared_error: 0.0418 - 917ms/epoch - 4ms/step\n",
      "Epoch 64/100\n",
      "250/250 - 1s - loss: 0.0475 - mean_squared_error: 0.0475 - val_loss: 0.0421 - val_mean_squared_error: 0.0421 - 922ms/epoch - 4ms/step\n",
      "Epoch 65/100\n",
      "250/250 - 1s - loss: 0.0467 - mean_squared_error: 0.0467 - val_loss: 0.0417 - val_mean_squared_error: 0.0417 - 923ms/epoch - 4ms/step\n",
      "Epoch 66/100\n",
      "250/250 - 1s - loss: 0.0455 - mean_squared_error: 0.0455 - val_loss: 0.0399 - val_mean_squared_error: 0.0399 - 916ms/epoch - 4ms/step\n",
      "Epoch 67/100\n",
      "250/250 - 1s - loss: 0.0467 - mean_squared_error: 0.0467 - val_loss: 0.0411 - val_mean_squared_error: 0.0411 - 917ms/epoch - 4ms/step\n",
      "Epoch 68/100\n",
      "250/250 - 1s - loss: 0.0496 - mean_squared_error: 0.0496 - val_loss: 0.0401 - val_mean_squared_error: 0.0401 - 921ms/epoch - 4ms/step\n",
      "Epoch 69/100\n",
      "250/250 - 1s - loss: 0.0452 - mean_squared_error: 0.0452 - val_loss: 0.0391 - val_mean_squared_error: 0.0391 - 922ms/epoch - 4ms/step\n",
      "Epoch 70/100\n",
      "250/250 - 1s - loss: 0.0456 - mean_squared_error: 0.0456 - val_loss: 0.0447 - val_mean_squared_error: 0.0447 - 923ms/epoch - 4ms/step\n",
      "Epoch 71/100\n",
      "250/250 - 1s - loss: 0.0452 - mean_squared_error: 0.0452 - val_loss: 0.0399 - val_mean_squared_error: 0.0399 - 920ms/epoch - 4ms/step\n",
      "Epoch 72/100\n",
      "250/250 - 1s - loss: 0.0487 - mean_squared_error: 0.0487 - val_loss: 0.0397 - val_mean_squared_error: 0.0397 - 1s/epoch - 5ms/step\n",
      "Epoch 73/100\n",
      "250/250 - 1s - loss: 0.0458 - mean_squared_error: 0.0458 - val_loss: 0.0402 - val_mean_squared_error: 0.0402 - 1s/epoch - 4ms/step\n",
      "Epoch 74/100\n",
      "250/250 - 1s - loss: 0.0448 - mean_squared_error: 0.0448 - val_loss: 0.0378 - val_mean_squared_error: 0.0378 - 944ms/epoch - 4ms/step\n",
      "Epoch 75/100\n",
      "250/250 - 1s - loss: 0.0457 - mean_squared_error: 0.0457 - val_loss: 0.0402 - val_mean_squared_error: 0.0402 - 917ms/epoch - 4ms/step\n",
      "Epoch 76/100\n",
      "250/250 - 1s - loss: 0.0447 - mean_squared_error: 0.0447 - val_loss: 0.0383 - val_mean_squared_error: 0.0383 - 956ms/epoch - 4ms/step\n",
      "Epoch 77/100\n",
      "250/250 - 1s - loss: 0.0498 - mean_squared_error: 0.0498 - val_loss: 0.0401 - val_mean_squared_error: 0.0401 - 919ms/epoch - 4ms/step\n",
      "Epoch 78/100\n",
      "250/250 - 1s - loss: 0.0446 - mean_squared_error: 0.0446 - val_loss: 0.0451 - val_mean_squared_error: 0.0451 - 970ms/epoch - 4ms/step\n",
      "Epoch 79/100\n",
      "250/250 - 1s - loss: 0.0442 - mean_squared_error: 0.0442 - val_loss: 0.0375 - val_mean_squared_error: 0.0375 - 1s/epoch - 4ms/step\n",
      "Epoch 80/100\n",
      "250/250 - 1s - loss: 0.0447 - mean_squared_error: 0.0447 - val_loss: 0.0401 - val_mean_squared_error: 0.0401 - 1s/epoch - 4ms/step\n",
      "Epoch 81/100\n",
      "250/250 - 1s - loss: 0.0458 - mean_squared_error: 0.0458 - val_loss: 0.0396 - val_mean_squared_error: 0.0396 - 914ms/epoch - 4ms/step\n",
      "Epoch 82/100\n",
      "250/250 - 1s - loss: 0.0458 - mean_squared_error: 0.0458 - val_loss: 0.0422 - val_mean_squared_error: 0.0422 - 917ms/epoch - 4ms/step\n",
      "Epoch 83/100\n",
      "250/250 - 1s - loss: 0.0439 - mean_squared_error: 0.0439 - val_loss: 0.0385 - val_mean_squared_error: 0.0385 - 922ms/epoch - 4ms/step\n",
      "Epoch 84/100\n",
      "250/250 - 1s - loss: 0.0448 - mean_squared_error: 0.0448 - val_loss: 0.0381 - val_mean_squared_error: 0.0381 - 912ms/epoch - 4ms/step\n",
      "Epoch 85/100\n",
      "250/250 - 1s - loss: 0.0437 - mean_squared_error: 0.0437 - val_loss: 0.0379 - val_mean_squared_error: 0.0379 - 924ms/epoch - 4ms/step\n",
      "Epoch 86/100\n",
      "250/250 - 1s - loss: 0.0513 - mean_squared_error: 0.0513 - val_loss: 0.0370 - val_mean_squared_error: 0.0370 - 925ms/epoch - 4ms/step\n",
      "Epoch 87/100\n",
      "250/250 - 1s - loss: 0.0432 - mean_squared_error: 0.0432 - val_loss: 0.0368 - val_mean_squared_error: 0.0368 - 917ms/epoch - 4ms/step\n",
      "Epoch 88/100\n",
      "250/250 - 1s - loss: 0.0469 - mean_squared_error: 0.0469 - val_loss: 0.0393 - val_mean_squared_error: 0.0393 - 917ms/epoch - 4ms/step\n",
      "Epoch 89/100\n",
      "250/250 - 1s - loss: 0.0438 - mean_squared_error: 0.0438 - val_loss: 0.0396 - val_mean_squared_error: 0.0396 - 915ms/epoch - 4ms/step\n",
      "Epoch 90/100\n",
      "250/250 - 1s - loss: 0.0440 - mean_squared_error: 0.0440 - val_loss: 0.0367 - val_mean_squared_error: 0.0367 - 914ms/epoch - 4ms/step\n",
      "Epoch 91/100\n",
      "250/250 - 1s - loss: 0.0430 - mean_squared_error: 0.0430 - val_loss: 0.0401 - val_mean_squared_error: 0.0401 - 920ms/epoch - 4ms/step\n",
      "Epoch 92/100\n",
      "250/250 - 1s - loss: 0.0431 - mean_squared_error: 0.0431 - val_loss: 0.0405 - val_mean_squared_error: 0.0405 - 915ms/epoch - 4ms/step\n",
      "Epoch 93/100\n",
      "250/250 - 1s - loss: 0.0445 - mean_squared_error: 0.0445 - val_loss: 0.0417 - val_mean_squared_error: 0.0417 - 914ms/epoch - 4ms/step\n",
      "Epoch 94/100\n",
      "250/250 - 1s - loss: 0.0443 - mean_squared_error: 0.0443 - val_loss: 0.0386 - val_mean_squared_error: 0.0386 - 945ms/epoch - 4ms/step\n",
      "Epoch 95/100\n",
      "250/250 - 1s - loss: 0.0472 - mean_squared_error: 0.0472 - val_loss: 0.0430 - val_mean_squared_error: 0.0430 - 917ms/epoch - 4ms/step\n",
      "Epoch 96/100\n",
      "250/250 - 1s - loss: 0.0431 - mean_squared_error: 0.0431 - val_loss: 0.0398 - val_mean_squared_error: 0.0398 - 916ms/epoch - 4ms/step\n",
      "Epoch 97/100\n",
      "250/250 - 1s - loss: 0.0435 - mean_squared_error: 0.0435 - val_loss: 0.0602 - val_mean_squared_error: 0.0602 - 914ms/epoch - 4ms/step\n",
      "Epoch 98/100\n",
      "250/250 - 1s - loss: 0.0441 - mean_squared_error: 0.0441 - val_loss: 0.0372 - val_mean_squared_error: 0.0372 - 918ms/epoch - 4ms/step\n",
      "Epoch 99/100\n",
      "250/250 - 1s - loss: 0.0425 - mean_squared_error: 0.0425 - val_loss: 0.0374 - val_mean_squared_error: 0.0374 - 921ms/epoch - 4ms/step\n",
      "Epoch 100/100\n",
      "250/250 - 1s - loss: 0.0433 - mean_squared_error: 0.0433 - val_loss: 0.0498 - val_mean_squared_error: 0.0498 - 912ms/epoch - 4ms/step\n"
     ]
    },
    {
     "data": {
      "text/plain": [
       "<keras.callbacks.History at 0x2de583dc0>"
      ]
     },
     "execution_count": 297,
     "metadata": {},
     "output_type": "execute_result"
    }
   ],
   "source": [
    "model.fit(x=[train_x], y=train_y, batch_size=32, epochs=100, verbose=2, validation_split = 0.2)"
   ]
  },
  {
   "cell_type": "code",
   "execution_count": 298,
   "id": "4e60d8d5",
   "metadata": {},
   "outputs": [],
   "source": [
    "model.save('/Users/changoug/Desktop/projects/coding/machine-learning-calculator/ml_div.h5')"
   ]
  },
  {
   "cell_type": "code",
   "execution_count": 299,
   "id": "6e57bdfd",
   "metadata": {},
   "outputs": [
    {
     "name": "stdout",
     "output_type": "stream",
     "text": [
      "Model: \"sequential_42\"\n",
      "_________________________________________________________________\n",
      " Layer (type)                Output Shape              Param #   \n",
      "=================================================================\n",
      " dense_126 (Dense)           (None, 2)                 6         \n",
      "                                                                 \n",
      " dense_127 (Dense)           (None, 16)                48        \n",
      "                                                                 \n",
      " dense_128 (Dense)           (None, 1)                 17        \n",
      "                                                                 \n",
      "=================================================================\n",
      "Total params: 71\n",
      "Trainable params: 71\n",
      "Non-trainable params: 0\n",
      "_________________________________________________________________\n"
     ]
    }
   ],
   "source": [
    "new_model = tf.keras.models.load_model('/Users/changoug/Desktop/projects/coding/machine-learning-calculator/ml_div.h5')\n",
    "\n",
    "# Check its architecture\n",
    "new_model.summary()"
   ]
  },
  {
   "cell_type": "code",
   "execution_count": 300,
   "id": "427f9f09",
   "metadata": {},
   "outputs": [
    {
     "name": "stdout",
     "output_type": "stream",
     "text": [
      "1/1 [==============================] - 0s 38ms/step\n",
      "[456  76] [[5.9425564]] 6\n",
      "1/1 [==============================] - 0s 11ms/step\n",
      "[410  82] [[5.0453234]] 5\n",
      "1/1 [==============================] - 0s 11ms/step\n",
      "[380  76] [[5.0429235]] 5\n",
      "1/1 [==============================] - 0s 12ms/step\n",
      "[413  59] [[7.0056887]] 7\n",
      "1/1 [==============================] - 0s 12ms/step\n",
      "[235  47] [[5.041317]] 5\n",
      "1/1 [==============================] - 0s 11ms/step\n"
     ]
    },
    {
     "name": "stderr",
     "output_type": "stream",
     "text": [
      "2022-11-06 23:51:34.012499: I tensorflow/core/grappler/optimizers/custom_graph_optimizer_registry.cc:114] Plugin optimizer for device_type GPU is enabled.\n"
     ]
    },
    {
     "name": "stdout",
     "output_type": "stream",
     "text": [
      "[12  3] [[3.4540324]] 4\n",
      "1/1 [==============================] - 0s 12ms/step\n",
      "[112  28] [[3.5002766]] 4\n",
      "1/1 [==============================] - 0s 12ms/step\n",
      "[36  4] [[9.142188]] 9\n",
      "1/1 [==============================] - 0s 12ms/step\n",
      "[155  31] [[5.0715485]] 5\n",
      "1/1 [==============================] - 0s 11ms/step\n",
      "[33 33] [[1.0014306]] 1\n"
     ]
    }
   ],
   "source": [
    "\n",
    "for i in range(10):\n",
    "  ans = model.predict(np.array([train_x[i]]))\n",
    "  print(train_x[i], ans, train_y[i])"
   ]
  }
 ],
 "metadata": {
  "kernelspec": {
   "display_name": "Python 3.9.12 ('base')",
   "language": "python",
   "name": "python3"
  },
  "language_info": {
   "codemirror_mode": {
    "name": "ipython",
    "version": 3
   },
   "file_extension": ".py",
   "mimetype": "text/x-python",
   "name": "python",
   "nbconvert_exporter": "python",
   "pygments_lexer": "ipython3",
   "version": "3.9.13"
  },
  "vscode": {
   "interpreter": {
    "hash": "bdec6b8f84b0a1027f5bda989eb17059c86bd89cd83c19ad20191402419f2f0c"
   }
  }
 },
 "nbformat": 4,
 "nbformat_minor": 5
}
