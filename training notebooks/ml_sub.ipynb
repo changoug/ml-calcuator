{
 "cells": [
  {
   "cell_type": "code",
   "execution_count": 102,
   "id": "eae5f37d",
   "metadata": {},
   "outputs": [],
   "source": [
    "import numpy as np\n",
    "import tensorflow as tf\n",
    "from tensorflow import keras\n",
    "from tensorflow.keras.models import Sequential\n",
    "from tensorflow.keras.layers import *\n",
    "from tensorflow.keras.optimizers import Adam\n",
    "from tensorflow.keras.metrics import mean_squared_error\n",
    "import sys\n",
    "from random import randint\n",
    "from sklearn.preprocessing import MinMaxScaler\n",
    "\n",
    "NUM_DATA_POINTS = 100000\n",
    "train_x = []\n",
    "train_y = []"
   ]
  },
  {
   "cell_type": "code",
   "execution_count": 103,
   "id": "e99bfc5d",
   "metadata": {},
   "outputs": [],
   "source": [
    "# 0=+, 1=-, 2=*, 3=/\n",
    "for i in range(NUM_DATA_POINTS):\n",
    "    random_int_1 = randint(1000, 2000)\n",
    "    random_int_2 = randint(0, 1000)\n",
    "    train_x.append([random_int_1, random_int_2])\n",
    "    train_y.append(random_int_1 - random_int_2)"
   ]
  },
  {
   "cell_type": "code",
   "execution_count": 104,
   "id": "e69cf3ab",
   "metadata": {},
   "outputs": [],
   "source": [
    "train_x = np.array(train_x)\n",
    "train_y = np.array(train_y)"
   ]
  },
  {
   "cell_type": "code",
   "execution_count": 105,
   "id": "4d501591",
   "metadata": {},
   "outputs": [],
   "source": [
    "model = Sequential(\n",
    "    [\n",
    "        Dense(units=2, input_shape=(2,), kernel_initializer='normal', activation='relu'),\n",
    "        Dense(units=8, kernel_initializer='normal', activation='elu'),\n",
    "        Dense(units=1, kernel_initializer='normal', activation='elu')\n",
    "    ]\n",
    ")"
   ]
  },
  {
   "cell_type": "code",
   "execution_count": 106,
   "id": "83575ec9",
   "metadata": {},
   "outputs": [
    {
     "name": "stdout",
     "output_type": "stream",
     "text": [
      "Model: \"sequential_12\"\n",
      "_________________________________________________________________\n",
      " Layer (type)                Output Shape              Param #   \n",
      "=================================================================\n",
      " dense_36 (Dense)            (None, 2)                 6         \n",
      "                                                                 \n",
      " dense_37 (Dense)            (None, 8)                 24        \n",
      "                                                                 \n",
      " dense_38 (Dense)            (None, 1)                 9         \n",
      "                                                                 \n",
      "=================================================================\n",
      "Total params: 39\n",
      "Trainable params: 39\n",
      "Non-trainable params: 0\n",
      "_________________________________________________________________\n"
     ]
    }
   ],
   "source": [
    "model.summary()"
   ]
  },
  {
   "cell_type": "code",
   "execution_count": 107,
   "id": "c311876f",
   "metadata": {},
   "outputs": [],
   "source": [
    "model.compile(optimizer=Adam(learning_rate=0.001), loss=mean_squared_error, metrics=['mean_squared_error'])"
   ]
  },
  {
   "cell_type": "code",
   "execution_count": 108,
   "id": "9ba2d9e6",
   "metadata": {},
   "outputs": [
    {
     "name": "stdout",
     "output_type": "stream",
     "text": [
      "Epoch 1/30\n"
     ]
    },
    {
     "name": "stderr",
     "output_type": "stream",
     "text": [
      "2022-11-06 20:41:35.541003: I tensorflow/core/grappler/optimizers/custom_graph_optimizer_registry.cc:114] Plugin optimizer for device_type GPU is enabled.\n",
      "2022-11-06 20:41:50.179280: I tensorflow/core/grappler/optimizers/custom_graph_optimizer_registry.cc:114] Plugin optimizer for device_type GPU is enabled.\n"
     ]
    },
    {
     "name": "stdout",
     "output_type": "stream",
     "text": [
      "2500/2500 - 17s - loss: 130916.5781 - mean_squared_error: 130916.5781 - val_loss: 0.2734 - val_mean_squared_error: 0.2734 - 17s/epoch - 7ms/step\n",
      "Epoch 2/30\n",
      "2500/2500 - 15s - loss: 0.2687 - mean_squared_error: 0.2687 - val_loss: 0.2586 - val_mean_squared_error: 0.2586 - 15s/epoch - 6ms/step\n",
      "Epoch 3/30\n",
      "2500/2500 - 15s - loss: 0.2452 - mean_squared_error: 0.2452 - val_loss: 0.2203 - val_mean_squared_error: 0.2203 - 15s/epoch - 6ms/step\n",
      "Epoch 4/30\n",
      "2500/2500 - 15s - loss: 0.1041 - mean_squared_error: 0.1041 - val_loss: 0.0219 - val_mean_squared_error: 0.0219 - 15s/epoch - 6ms/step\n",
      "Epoch 5/30\n",
      "2500/2500 - 15s - loss: 0.0098 - mean_squared_error: 0.0098 - val_loss: 4.2933e-04 - val_mean_squared_error: 4.2933e-04 - 15s/epoch - 6ms/step\n",
      "Epoch 6/30\n",
      "2500/2500 - 15s - loss: 0.0505 - mean_squared_error: 0.0505 - val_loss: 4.8354e-05 - val_mean_squared_error: 4.8354e-05 - 15s/epoch - 6ms/step\n",
      "Epoch 7/30\n",
      "2500/2500 - 15s - loss: 0.0640 - mean_squared_error: 0.0640 - val_loss: 0.0026 - val_mean_squared_error: 0.0026 - 15s/epoch - 6ms/step\n",
      "Epoch 8/30\n",
      "2500/2500 - 15s - loss: 0.0334 - mean_squared_error: 0.0334 - val_loss: 0.0012 - val_mean_squared_error: 0.0012 - 15s/epoch - 6ms/step\n",
      "Epoch 9/30\n",
      "2500/2500 - 15s - loss: 0.0498 - mean_squared_error: 0.0498 - val_loss: 0.0014 - val_mean_squared_error: 0.0014 - 15s/epoch - 6ms/step\n",
      "Epoch 10/30\n",
      "2500/2500 - 15s - loss: 0.0411 - mean_squared_error: 0.0411 - val_loss: 9.8158e-04 - val_mean_squared_error: 9.8158e-04 - 15s/epoch - 6ms/step\n",
      "Epoch 11/30\n",
      "2500/2500 - 15s - loss: 0.0440 - mean_squared_error: 0.0440 - val_loss: 3.1785e-04 - val_mean_squared_error: 3.1785e-04 - 15s/epoch - 6ms/step\n",
      "Epoch 12/30\n",
      "2500/2500 - 15s - loss: 0.0454 - mean_squared_error: 0.0454 - val_loss: 0.0980 - val_mean_squared_error: 0.0980 - 15s/epoch - 6ms/step\n",
      "Epoch 13/30\n",
      "2500/2500 - 15s - loss: 0.0459 - mean_squared_error: 0.0459 - val_loss: 0.0033 - val_mean_squared_error: 0.0033 - 15s/epoch - 6ms/step\n",
      "Epoch 14/30\n",
      "2500/2500 - 15s - loss: 0.0358 - mean_squared_error: 0.0358 - val_loss: 0.0030 - val_mean_squared_error: 0.0030 - 15s/epoch - 6ms/step\n",
      "Epoch 15/30\n",
      "2500/2500 - 15s - loss: 0.0545 - mean_squared_error: 0.0545 - val_loss: 0.0201 - val_mean_squared_error: 0.0201 - 15s/epoch - 6ms/step\n",
      "Epoch 16/30\n",
      "2500/2500 - 15s - loss: 0.0420 - mean_squared_error: 0.0420 - val_loss: 3.8787e-05 - val_mean_squared_error: 3.8787e-05 - 15s/epoch - 6ms/step\n",
      "Epoch 17/30\n",
      "2500/2500 - 15s - loss: 0.0387 - mean_squared_error: 0.0387 - val_loss: 0.1327 - val_mean_squared_error: 0.1327 - 15s/epoch - 6ms/step\n",
      "Epoch 18/30\n",
      "2500/2500 - 15s - loss: 0.0453 - mean_squared_error: 0.0453 - val_loss: 3.0059e-06 - val_mean_squared_error: 3.0059e-06 - 15s/epoch - 6ms/step\n",
      "Epoch 19/30\n",
      "2500/2500 - 15s - loss: 0.0473 - mean_squared_error: 0.0473 - val_loss: 0.0483 - val_mean_squared_error: 0.0483 - 15s/epoch - 6ms/step\n",
      "Epoch 20/30\n",
      "2500/2500 - 16s - loss: 0.0551 - mean_squared_error: 0.0551 - val_loss: 0.1277 - val_mean_squared_error: 0.1277 - 16s/epoch - 6ms/step\n",
      "Epoch 21/30\n",
      "2500/2500 - 15s - loss: 0.0403 - mean_squared_error: 0.0403 - val_loss: 1.0783e-06 - val_mean_squared_error: 1.0783e-06 - 15s/epoch - 6ms/step\n",
      "Epoch 22/30\n",
      "2500/2500 - 15s - loss: 0.0449 - mean_squared_error: 0.0449 - val_loss: 3.9595e-05 - val_mean_squared_error: 3.9595e-05 - 15s/epoch - 6ms/step\n",
      "Epoch 23/30\n",
      "2500/2500 - 15s - loss: 0.0472 - mean_squared_error: 0.0472 - val_loss: 1.2154e-06 - val_mean_squared_error: 1.2154e-06 - 15s/epoch - 6ms/step\n",
      "Epoch 24/30\n",
      "2500/2500 - 16s - loss: 0.0364 - mean_squared_error: 0.0364 - val_loss: 2.6959e-07 - val_mean_squared_error: 2.6959e-07 - 16s/epoch - 6ms/step\n",
      "Epoch 25/30\n",
      "2500/2500 - 15s - loss: 0.0499 - mean_squared_error: 0.0499 - val_loss: 2.9657e-06 - val_mean_squared_error: 2.9657e-06 - 15s/epoch - 6ms/step\n",
      "Epoch 26/30\n",
      "2500/2500 - 15s - loss: 0.0340 - mean_squared_error: 0.0340 - val_loss: 4.2177e-05 - val_mean_squared_error: 4.2177e-05 - 15s/epoch - 6ms/step\n",
      "Epoch 27/30\n",
      "2500/2500 - 15s - loss: 0.0512 - mean_squared_error: 0.0512 - val_loss: 0.0032 - val_mean_squared_error: 0.0032 - 15s/epoch - 6ms/step\n",
      "Epoch 28/30\n",
      "2500/2500 - 15s - loss: 0.0419 - mean_squared_error: 0.0419 - val_loss: 0.0015 - val_mean_squared_error: 0.0015 - 15s/epoch - 6ms/step\n",
      "Epoch 29/30\n",
      "2500/2500 - 15s - loss: 0.0409 - mean_squared_error: 0.0409 - val_loss: 8.0343e-05 - val_mean_squared_error: 8.0343e-05 - 15s/epoch - 6ms/step\n",
      "Epoch 30/30\n",
      "2500/2500 - 16s - loss: 0.0456 - mean_squared_error: 0.0456 - val_loss: 1.2432e-06 - val_mean_squared_error: 1.2432e-06 - 16s/epoch - 6ms/step\n"
     ]
    },
    {
     "data": {
      "text/plain": [
       "<keras.callbacks.History at 0x2a681fd90>"
      ]
     },
     "execution_count": 108,
     "metadata": {},
     "output_type": "execute_result"
    }
   ],
   "source": [
    "model.fit(x=[train_x], y=train_y, batch_size=32, epochs=30, verbose=2, validation_split = 0.2)"
   ]
  },
  {
   "cell_type": "code",
   "execution_count": 109,
   "id": "4e60d8d5",
   "metadata": {},
   "outputs": [],
   "source": [
    "model.save('/Users/changoug/Desktop/projects/coding/machine-learning-calculator/ml_sub.h5')"
   ]
  },
  {
   "cell_type": "code",
   "execution_count": 110,
   "id": "6e57bdfd",
   "metadata": {},
   "outputs": [
    {
     "name": "stdout",
     "output_type": "stream",
     "text": [
      "Model: \"sequential_12\"\n",
      "_________________________________________________________________\n",
      " Layer (type)                Output Shape              Param #   \n",
      "=================================================================\n",
      " dense_36 (Dense)            (None, 2)                 6         \n",
      "                                                                 \n",
      " dense_37 (Dense)            (None, 8)                 24        \n",
      "                                                                 \n",
      " dense_38 (Dense)            (None, 1)                 9         \n",
      "                                                                 \n",
      "=================================================================\n",
      "Total params: 39\n",
      "Trainable params: 39\n",
      "Non-trainable params: 0\n",
      "_________________________________________________________________\n"
     ]
    }
   ],
   "source": [
    "new_model = tf.keras.models.load_model('/Users/changoug/Desktop/projects/coding/machine-learning-calculator/ml_sub.h5')\n",
    "\n",
    "# Check its architecture\n",
    "new_model.summary()"
   ]
  },
  {
   "cell_type": "code",
   "execution_count": 111,
   "id": "427f9f09",
   "metadata": {},
   "outputs": [
    {
     "name": "stdout",
     "output_type": "stream",
     "text": [
      "1/1 [==============================] - 0s 41ms/step\n",
      "[1752  806] [[945.9994]] 946\n",
      "1/1 [==============================] - 0s 12ms/step\n",
      "[1555   20] [[1534.9983]] 1535\n",
      "1/1 [==============================] - 0s 12ms/step\n",
      "[1090   47] [[1042.9995]] 1043\n",
      "1/1 [==============================] - 0s 12ms/step\n",
      "[1090  585] [[505.00012]] 505\n",
      "1/1 [==============================] - 0s 13ms/step\n",
      "[1773  995] [[777.9996]] 778\n",
      "1/1 [==============================] - 0s 12ms/step\n"
     ]
    },
    {
     "name": "stderr",
     "output_type": "stream",
     "text": [
      "2022-11-06 20:49:14.788939: I tensorflow/core/grappler/optimizers/custom_graph_optimizer_registry.cc:114] Plugin optimizer for device_type GPU is enabled.\n"
     ]
    },
    {
     "name": "stdout",
     "output_type": "stream",
     "text": [
      "[1714  828] [[885.99945]] 886\n",
      "1/1 [==============================] - 0s 14ms/step\n",
      "[1804  393] [[1410.9987]] 1411\n",
      "1/1 [==============================] - 0s 13ms/step\n",
      "[1444  647] [[796.99963]] 797\n",
      "1/1 [==============================] - 0s 12ms/step\n",
      "[1018  783] [[234.999]] 235\n",
      "1/1 [==============================] - 0s 14ms/step\n",
      "[1138  675] [[463.00012]] 463\n"
     ]
    }
   ],
   "source": [
    "\n",
    "for i in range(10):\n",
    "  ans = model.predict(np.array([train_x[i]]))\n",
    "  print(train_x[i], ans, train_y[i])"
   ]
  }
 ],
 "metadata": {
  "kernelspec": {
   "display_name": "Python 3.9.12 ('base')",
   "language": "python",
   "name": "python3"
  },
  "language_info": {
   "codemirror_mode": {
    "name": "ipython",
    "version": 3
   },
   "file_extension": ".py",
   "mimetype": "text/x-python",
   "name": "python",
   "nbconvert_exporter": "python",
   "pygments_lexer": "ipython3",
   "version": "3.9.13"
  },
  "vscode": {
   "interpreter": {
    "hash": "bdec6b8f84b0a1027f5bda989eb17059c86bd89cd83c19ad20191402419f2f0c"
   }
  }
 },
 "nbformat": 4,
 "nbformat_minor": 5
}
