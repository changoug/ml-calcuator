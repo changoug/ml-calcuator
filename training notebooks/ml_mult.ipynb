{
 "cells": [
  {
   "cell_type": "code",
   "execution_count": 401,
   "id": "eae5f37d",
   "metadata": {},
   "outputs": [],
   "source": [
    "import numpy as np\n",
    "import tensorflow as tf\n",
    "from tensorflow import keras\n",
    "from tensorflow.keras.models import Sequential\n",
    "from tensorflow.keras.layers import *\n",
    "from tensorflow.keras.optimizers import Adam\n",
    "from tensorflow.keras.metrics import mean_squared_error\n",
    "import sys\n",
    "from random import randint\n",
    "from sklearn.preprocessing import MinMaxScaler\n",
    "\n",
    "NUM_DATA_POINTS = 10000\n",
    "train_x = []\n",
    "train_y = []"
   ]
  },
  {
   "cell_type": "code",
   "execution_count": 402,
   "id": "e99bfc5d",
   "metadata": {},
   "outputs": [],
   "source": [
    "# 0=+, 1=-, 2=*, 3=/\n",
    "for i in range(NUM_DATA_POINTS):\n",
    "    random_int_1 = randint(1, 10)\n",
    "    random_int_2 = randint(1, 10)\n",
    "    train_x.append([random_int_1, random_int_2])\n",
    "    train_y.append(random_int_1 * random_int_2)"
   ]
  },
  {
   "cell_type": "code",
   "execution_count": 403,
   "id": "e69cf3ab",
   "metadata": {},
   "outputs": [],
   "source": [
    "train_x = np.array(train_x)\n",
    "train_y = np.array(train_y)"
   ]
  },
  {
   "cell_type": "code",
   "execution_count": 404,
   "id": "8af5d615",
   "metadata": {},
   "outputs": [],
   "source": [
    "# for i in range(NUM_DATA_POINTS):\n",
    "#     print(scaled_train_x[i], scaled_train_xs_2[i], train_y[i])"
   ]
  },
  {
   "cell_type": "code",
   "execution_count": 405,
   "id": "4d501591",
   "metadata": {},
   "outputs": [],
   "source": [
    "model = Sequential(\n",
    "    [\n",
    "        Dense(units=2, input_shape=(2,), kernel_initializer='normal', activation='relu'),\n",
    "        Dense(units=64, kernel_initializer='normal', activation='tanh'),\n",
    "        Dense(units=1, kernel_initializer='normal', activation='relu')\n",
    "    ]\n",
    ")"
   ]
  },
  {
   "cell_type": "code",
   "execution_count": 406,
   "id": "c311876f",
   "metadata": {},
   "outputs": [],
   "source": [
    "model.compile(optimizer=Adam(learning_rate=0.001), loss=mean_squared_error, metrics=['mean_squared_error'])"
   ]
  },
  {
   "cell_type": "code",
   "execution_count": 407,
   "id": "9ba2d9e6",
   "metadata": {},
   "outputs": [
    {
     "name": "stdout",
     "output_type": "stream",
     "text": [
      "Epoch 1/100\n"
     ]
    },
    {
     "name": "stderr",
     "output_type": "stream",
     "text": [
      "2022-11-06 22:38:59.596551: I tensorflow/core/grappler/optimizers/custom_graph_optimizer_registry.cc:114] Plugin optimizer for device_type GPU is enabled.\n",
      "2022-11-06 22:39:00.603260: I tensorflow/core/grappler/optimizers/custom_graph_optimizer_registry.cc:114] Plugin optimizer for device_type GPU is enabled.\n"
     ]
    },
    {
     "name": "stdout",
     "output_type": "stream",
     "text": [
      "250/250 - 1s - loss: 1011.8491 - mean_squared_error: 1011.8491 - val_loss: 574.7299 - val_mean_squared_error: 574.7299 - 1s/epoch - 6ms/step\n",
      "Epoch 2/100\n",
      "250/250 - 1s - loss: 490.4335 - mean_squared_error: 490.4335 - val_loss: 419.0054 - val_mean_squared_error: 419.0054 - 979ms/epoch - 4ms/step\n",
      "Epoch 3/100\n",
      "250/250 - 2s - loss: 357.4533 - mean_squared_error: 357.4533 - val_loss: 299.3910 - val_mean_squared_error: 299.3910 - 2s/epoch - 7ms/step\n",
      "Epoch 4/100\n",
      "250/250 - 1s - loss: 246.4074 - mean_squared_error: 246.4074 - val_loss: 203.7743 - val_mean_squared_error: 203.7743 - 1s/epoch - 4ms/step\n",
      "Epoch 5/100\n",
      "250/250 - 1s - loss: 169.8017 - mean_squared_error: 169.8017 - val_loss: 146.0341 - val_mean_squared_error: 146.0341 - 956ms/epoch - 4ms/step\n",
      "Epoch 6/100\n",
      "250/250 - 1s - loss: 126.3507 - mean_squared_error: 126.3507 - val_loss: 113.4105 - val_mean_squared_error: 113.4105 - 925ms/epoch - 4ms/step\n",
      "Epoch 7/100\n",
      "250/250 - 1s - loss: 102.0372 - mean_squared_error: 102.0372 - val_loss: 95.5222 - val_mean_squared_error: 95.5222 - 925ms/epoch - 4ms/step\n",
      "Epoch 8/100\n",
      "250/250 - 1s - loss: 90.5926 - mean_squared_error: 90.5926 - val_loss: 87.2398 - val_mean_squared_error: 87.2398 - 932ms/epoch - 4ms/step\n",
      "Epoch 9/100\n",
      "250/250 - 1s - loss: 83.9918 - mean_squared_error: 83.9918 - val_loss: 81.4742 - val_mean_squared_error: 81.4742 - 927ms/epoch - 4ms/step\n",
      "Epoch 10/100\n",
      "250/250 - 1s - loss: 77.6094 - mean_squared_error: 77.6094 - val_loss: 75.6203 - val_mean_squared_error: 75.6203 - 934ms/epoch - 4ms/step\n",
      "Epoch 11/100\n",
      "250/250 - 1s - loss: 73.4561 - mean_squared_error: 73.4561 - val_loss: 71.6880 - val_mean_squared_error: 71.6880 - 922ms/epoch - 4ms/step\n",
      "Epoch 12/100\n",
      "250/250 - 1s - loss: 70.5710 - mean_squared_error: 70.5710 - val_loss: 68.4705 - val_mean_squared_error: 68.4705 - 947ms/epoch - 4ms/step\n",
      "Epoch 13/100\n",
      "250/250 - 1s - loss: 68.3499 - mean_squared_error: 68.3499 - val_loss: 66.1746 - val_mean_squared_error: 66.1746 - 981ms/epoch - 4ms/step\n",
      "Epoch 14/100\n",
      "250/250 - 1s - loss: 65.8130 - mean_squared_error: 65.8130 - val_loss: 64.2584 - val_mean_squared_error: 64.2584 - 943ms/epoch - 4ms/step\n",
      "Epoch 15/100\n",
      "250/250 - 1s - loss: 63.9323 - mean_squared_error: 63.9323 - val_loss: 62.7230 - val_mean_squared_error: 62.7230 - 920ms/epoch - 4ms/step\n",
      "Epoch 16/100\n",
      "250/250 - 1s - loss: 62.4482 - mean_squared_error: 62.4482 - val_loss: 60.7826 - val_mean_squared_error: 60.7826 - 928ms/epoch - 4ms/step\n",
      "Epoch 17/100\n",
      "250/250 - 1s - loss: 60.7271 - mean_squared_error: 60.7271 - val_loss: 60.3619 - val_mean_squared_error: 60.3619 - 919ms/epoch - 4ms/step\n",
      "Epoch 18/100\n",
      "250/250 - 1s - loss: 59.1157 - mean_squared_error: 59.1157 - val_loss: 58.5041 - val_mean_squared_error: 58.5041 - 915ms/epoch - 4ms/step\n",
      "Epoch 19/100\n",
      "250/250 - 1s - loss: 57.9098 - mean_squared_error: 57.9098 - val_loss: 57.3861 - val_mean_squared_error: 57.3861 - 918ms/epoch - 4ms/step\n",
      "Epoch 20/100\n",
      "250/250 - 1s - loss: 56.9046 - mean_squared_error: 56.9046 - val_loss: 58.8274 - val_mean_squared_error: 58.8274 - 919ms/epoch - 4ms/step\n",
      "Epoch 21/100\n",
      "250/250 - 1s - loss: 55.2209 - mean_squared_error: 55.2209 - val_loss: 53.4227 - val_mean_squared_error: 53.4227 - 918ms/epoch - 4ms/step\n",
      "Epoch 22/100\n",
      "250/250 - 1s - loss: 52.6813 - mean_squared_error: 52.6813 - val_loss: 52.3345 - val_mean_squared_error: 52.3345 - 937ms/epoch - 4ms/step\n",
      "Epoch 23/100\n",
      "250/250 - 1s - loss: 51.3928 - mean_squared_error: 51.3928 - val_loss: 50.5859 - val_mean_squared_error: 50.5859 - 922ms/epoch - 4ms/step\n",
      "Epoch 24/100\n",
      "250/250 - 1s - loss: 49.7839 - mean_squared_error: 49.7839 - val_loss: 49.4098 - val_mean_squared_error: 49.4098 - 923ms/epoch - 4ms/step\n",
      "Epoch 25/100\n",
      "250/250 - 1s - loss: 48.8384 - mean_squared_error: 48.8384 - val_loss: 48.3834 - val_mean_squared_error: 48.3834 - 932ms/epoch - 4ms/step\n",
      "Epoch 26/100\n",
      "250/250 - 1s - loss: 47.6637 - mean_squared_error: 47.6637 - val_loss: 47.4465 - val_mean_squared_error: 47.4465 - 929ms/epoch - 4ms/step\n",
      "Epoch 27/100\n",
      "250/250 - 1s - loss: 46.5979 - mean_squared_error: 46.5979 - val_loss: 48.3107 - val_mean_squared_error: 48.3107 - 924ms/epoch - 4ms/step\n",
      "Epoch 28/100\n",
      "250/250 - 1s - loss: 45.8548 - mean_squared_error: 45.8548 - val_loss: 45.2887 - val_mean_squared_error: 45.2887 - 922ms/epoch - 4ms/step\n",
      "Epoch 29/100\n",
      "250/250 - 1s - loss: 44.7470 - mean_squared_error: 44.7470 - val_loss: 44.6985 - val_mean_squared_error: 44.6985 - 924ms/epoch - 4ms/step\n",
      "Epoch 30/100\n",
      "250/250 - 1s - loss: 43.8947 - mean_squared_error: 43.8947 - val_loss: 44.7919 - val_mean_squared_error: 44.7919 - 928ms/epoch - 4ms/step\n",
      "Epoch 31/100\n",
      "250/250 - 1s - loss: 42.9213 - mean_squared_error: 42.9213 - val_loss: 42.8950 - val_mean_squared_error: 42.8950 - 919ms/epoch - 4ms/step\n",
      "Epoch 32/100\n",
      "250/250 - 1s - loss: 42.2072 - mean_squared_error: 42.2072 - val_loss: 41.9335 - val_mean_squared_error: 41.9335 - 924ms/epoch - 4ms/step\n",
      "Epoch 33/100\n",
      "250/250 - 1s - loss: 41.3845 - mean_squared_error: 41.3845 - val_loss: 41.9185 - val_mean_squared_error: 41.9185 - 920ms/epoch - 4ms/step\n",
      "Epoch 34/100\n",
      "250/250 - 1s - loss: 40.5947 - mean_squared_error: 40.5947 - val_loss: 40.5282 - val_mean_squared_error: 40.5282 - 919ms/epoch - 4ms/step\n",
      "Epoch 35/100\n",
      "250/250 - 1s - loss: 40.0166 - mean_squared_error: 40.0166 - val_loss: 40.9520 - val_mean_squared_error: 40.9520 - 919ms/epoch - 4ms/step\n",
      "Epoch 36/100\n",
      "250/250 - 1s - loss: 39.1628 - mean_squared_error: 39.1628 - val_loss: 39.1817 - val_mean_squared_error: 39.1817 - 928ms/epoch - 4ms/step\n",
      "Epoch 37/100\n",
      "250/250 - 1s - loss: 38.3956 - mean_squared_error: 38.3956 - val_loss: 38.8396 - val_mean_squared_error: 38.8396 - 921ms/epoch - 4ms/step\n",
      "Epoch 38/100\n",
      "250/250 - 1s - loss: 37.5617 - mean_squared_error: 37.5617 - val_loss: 37.7183 - val_mean_squared_error: 37.7183 - 927ms/epoch - 4ms/step\n",
      "Epoch 39/100\n",
      "250/250 - 1s - loss: 36.8593 - mean_squared_error: 36.8593 - val_loss: 37.2329 - val_mean_squared_error: 37.2329 - 923ms/epoch - 4ms/step\n",
      "Epoch 40/100\n",
      "250/250 - 1s - loss: 34.9462 - mean_squared_error: 34.9462 - val_loss: 34.8461 - val_mean_squared_error: 34.8461 - 923ms/epoch - 4ms/step\n",
      "Epoch 41/100\n",
      "250/250 - 1s - loss: 33.5656 - mean_squared_error: 33.5656 - val_loss: 34.0733 - val_mean_squared_error: 34.0733 - 934ms/epoch - 4ms/step\n",
      "Epoch 42/100\n",
      "250/250 - 1s - loss: 32.4412 - mean_squared_error: 32.4412 - val_loss: 32.3575 - val_mean_squared_error: 32.3575 - 931ms/epoch - 4ms/step\n",
      "Epoch 43/100\n",
      "250/250 - 1s - loss: 31.2262 - mean_squared_error: 31.2262 - val_loss: 31.0913 - val_mean_squared_error: 31.0913 - 924ms/epoch - 4ms/step\n",
      "Epoch 44/100\n",
      "250/250 - 1s - loss: 30.1611 - mean_squared_error: 30.1611 - val_loss: 30.0965 - val_mean_squared_error: 30.0965 - 920ms/epoch - 4ms/step\n",
      "Epoch 45/100\n",
      "250/250 - 1s - loss: 29.1544 - mean_squared_error: 29.1544 - val_loss: 29.0107 - val_mean_squared_error: 29.0107 - 917ms/epoch - 4ms/step\n",
      "Epoch 46/100\n",
      "250/250 - 1s - loss: 28.0346 - mean_squared_error: 28.0346 - val_loss: 28.4151 - val_mean_squared_error: 28.4151 - 934ms/epoch - 4ms/step\n",
      "Epoch 47/100\n",
      "250/250 - 1s - loss: 26.3332 - mean_squared_error: 26.3332 - val_loss: 26.5123 - val_mean_squared_error: 26.5123 - 925ms/epoch - 4ms/step\n",
      "Epoch 48/100\n",
      "250/250 - 1s - loss: 25.1664 - mean_squared_error: 25.1664 - val_loss: 25.4871 - val_mean_squared_error: 25.4871 - 916ms/epoch - 4ms/step\n",
      "Epoch 49/100\n",
      "250/250 - 1s - loss: 23.7500 - mean_squared_error: 23.7500 - val_loss: 24.4264 - val_mean_squared_error: 24.4264 - 929ms/epoch - 4ms/step\n",
      "Epoch 50/100\n",
      "250/250 - 1s - loss: 22.2128 - mean_squared_error: 22.2128 - val_loss: 22.6146 - val_mean_squared_error: 22.6146 - 917ms/epoch - 4ms/step\n",
      "Epoch 51/100\n",
      "250/250 - 1s - loss: 20.8920 - mean_squared_error: 20.8920 - val_loss: 21.4508 - val_mean_squared_error: 21.4508 - 921ms/epoch - 4ms/step\n",
      "Epoch 52/100\n",
      "250/250 - 1s - loss: 20.0892 - mean_squared_error: 20.0892 - val_loss: 20.6936 - val_mean_squared_error: 20.6936 - 920ms/epoch - 4ms/step\n",
      "Epoch 53/100\n",
      "250/250 - 1s - loss: 19.5664 - mean_squared_error: 19.5664 - val_loss: 20.2643 - val_mean_squared_error: 20.2643 - 916ms/epoch - 4ms/step\n",
      "Epoch 54/100\n",
      "250/250 - 1s - loss: 19.2379 - mean_squared_error: 19.2379 - val_loss: 20.0983 - val_mean_squared_error: 20.0983 - 923ms/epoch - 4ms/step\n",
      "Epoch 55/100\n",
      "250/250 - 1s - loss: 19.0930 - mean_squared_error: 19.0930 - val_loss: 20.0091 - val_mean_squared_error: 20.0091 - 926ms/epoch - 4ms/step\n",
      "Epoch 56/100\n",
      "250/250 - 1s - loss: 19.0036 - mean_squared_error: 19.0036 - val_loss: 20.2453 - val_mean_squared_error: 20.2453 - 926ms/epoch - 4ms/step\n",
      "Epoch 57/100\n",
      "250/250 - 1s - loss: 18.8357 - mean_squared_error: 18.8357 - val_loss: 19.7445 - val_mean_squared_error: 19.7445 - 1s/epoch - 4ms/step\n",
      "Epoch 58/100\n",
      "250/250 - 1s - loss: 18.8462 - mean_squared_error: 18.8462 - val_loss: 19.7898 - val_mean_squared_error: 19.7898 - 931ms/epoch - 4ms/step\n",
      "Epoch 59/100\n",
      "250/250 - 1s - loss: 18.8765 - mean_squared_error: 18.8765 - val_loss: 19.6102 - val_mean_squared_error: 19.6102 - 924ms/epoch - 4ms/step\n",
      "Epoch 60/100\n",
      "250/250 - 1s - loss: 18.6376 - mean_squared_error: 18.6376 - val_loss: 19.6741 - val_mean_squared_error: 19.6741 - 932ms/epoch - 4ms/step\n",
      "Epoch 61/100\n",
      "250/250 - 1s - loss: 18.5260 - mean_squared_error: 18.5260 - val_loss: 19.5363 - val_mean_squared_error: 19.5363 - 924ms/epoch - 4ms/step\n",
      "Epoch 62/100\n",
      "250/250 - 1s - loss: 18.3460 - mean_squared_error: 18.3460 - val_loss: 19.5103 - val_mean_squared_error: 19.5103 - 923ms/epoch - 4ms/step\n",
      "Epoch 63/100\n",
      "250/250 - 1s - loss: 17.9235 - mean_squared_error: 17.9235 - val_loss: 18.3560 - val_mean_squared_error: 18.3560 - 926ms/epoch - 4ms/step\n",
      "Epoch 64/100\n",
      "250/250 - 1s - loss: 16.7779 - mean_squared_error: 16.7779 - val_loss: 17.0882 - val_mean_squared_error: 17.0882 - 923ms/epoch - 4ms/step\n",
      "Epoch 65/100\n",
      "250/250 - 1s - loss: 13.6657 - mean_squared_error: 13.6657 - val_loss: 11.6084 - val_mean_squared_error: 11.6084 - 923ms/epoch - 4ms/step\n",
      "Epoch 66/100\n",
      "250/250 - 1s - loss: 7.8840 - mean_squared_error: 7.8840 - val_loss: 5.2837 - val_mean_squared_error: 5.2837 - 919ms/epoch - 4ms/step\n",
      "Epoch 67/100\n",
      "250/250 - 1s - loss: 2.9690 - mean_squared_error: 2.9690 - val_loss: 1.6958 - val_mean_squared_error: 1.6958 - 924ms/epoch - 4ms/step\n",
      "Epoch 68/100\n",
      "250/250 - 1s - loss: 1.0865 - mean_squared_error: 1.0865 - val_loss: 0.7993 - val_mean_squared_error: 0.7993 - 917ms/epoch - 4ms/step\n",
      "Epoch 69/100\n",
      "250/250 - 1s - loss: 0.6400 - mean_squared_error: 0.6400 - val_loss: 0.6102 - val_mean_squared_error: 0.6102 - 1s/epoch - 4ms/step\n",
      "Epoch 70/100\n",
      "250/250 - 1s - loss: 0.5163 - mean_squared_error: 0.5163 - val_loss: 0.5161 - val_mean_squared_error: 0.5161 - 1s/epoch - 4ms/step\n",
      "Epoch 71/100\n",
      "250/250 - 1s - loss: 0.4527 - mean_squared_error: 0.4527 - val_loss: 0.4582 - val_mean_squared_error: 0.4582 - 977ms/epoch - 4ms/step\n",
      "Epoch 72/100\n",
      "250/250 - 1s - loss: 0.3960 - mean_squared_error: 0.3960 - val_loss: 0.3933 - val_mean_squared_error: 0.3933 - 944ms/epoch - 4ms/step\n",
      "Epoch 73/100\n",
      "250/250 - 1s - loss: 0.3606 - mean_squared_error: 0.3606 - val_loss: 0.3693 - val_mean_squared_error: 0.3693 - 952ms/epoch - 4ms/step\n",
      "Epoch 74/100\n",
      "250/250 - 1s - loss: 0.3328 - mean_squared_error: 0.3328 - val_loss: 0.3345 - val_mean_squared_error: 0.3345 - 966ms/epoch - 4ms/step\n",
      "Epoch 75/100\n",
      "250/250 - 1s - loss: 0.3124 - mean_squared_error: 0.3124 - val_loss: 0.3197 - val_mean_squared_error: 0.3197 - 969ms/epoch - 4ms/step\n",
      "Epoch 76/100\n",
      "250/250 - 1s - loss: 0.2876 - mean_squared_error: 0.2876 - val_loss: 0.2842 - val_mean_squared_error: 0.2842 - 947ms/epoch - 4ms/step\n",
      "Epoch 77/100\n",
      "250/250 - 1s - loss: 0.2876 - mean_squared_error: 0.2876 - val_loss: 0.2755 - val_mean_squared_error: 0.2755 - 949ms/epoch - 4ms/step\n",
      "Epoch 78/100\n",
      "250/250 - 1s - loss: 0.2620 - mean_squared_error: 0.2620 - val_loss: 0.2684 - val_mean_squared_error: 0.2684 - 943ms/epoch - 4ms/step\n",
      "Epoch 79/100\n",
      "250/250 - 1s - loss: 0.2540 - mean_squared_error: 0.2540 - val_loss: 0.2470 - val_mean_squared_error: 0.2470 - 941ms/epoch - 4ms/step\n",
      "Epoch 80/100\n",
      "250/250 - 1s - loss: 0.2332 - mean_squared_error: 0.2332 - val_loss: 0.2577 - val_mean_squared_error: 0.2577 - 948ms/epoch - 4ms/step\n",
      "Epoch 81/100\n",
      "250/250 - 1s - loss: 0.2380 - mean_squared_error: 0.2380 - val_loss: 0.2174 - val_mean_squared_error: 0.2174 - 986ms/epoch - 4ms/step\n",
      "Epoch 82/100\n",
      "250/250 - 1s - loss: 0.2109 - mean_squared_error: 0.2109 - val_loss: 0.2195 - val_mean_squared_error: 0.2195 - 941ms/epoch - 4ms/step\n",
      "Epoch 83/100\n",
      "250/250 - 1s - loss: 0.2128 - mean_squared_error: 0.2128 - val_loss: 0.2320 - val_mean_squared_error: 0.2320 - 943ms/epoch - 4ms/step\n",
      "Epoch 84/100\n",
      "250/250 - 1s - loss: 0.1984 - mean_squared_error: 0.1984 - val_loss: 0.2485 - val_mean_squared_error: 0.2485 - 940ms/epoch - 4ms/step\n",
      "Epoch 85/100\n",
      "250/250 - 1s - loss: 0.2028 - mean_squared_error: 0.2028 - val_loss: 0.2203 - val_mean_squared_error: 0.2203 - 937ms/epoch - 4ms/step\n",
      "Epoch 86/100\n",
      "250/250 - 1s - loss: 0.1952 - mean_squared_error: 0.1952 - val_loss: 0.3009 - val_mean_squared_error: 0.3009 - 941ms/epoch - 4ms/step\n",
      "Epoch 87/100\n",
      "250/250 - 1s - loss: 0.1775 - mean_squared_error: 0.1775 - val_loss: 0.1671 - val_mean_squared_error: 0.1671 - 940ms/epoch - 4ms/step\n",
      "Epoch 88/100\n",
      "250/250 - 1s - loss: 0.1736 - mean_squared_error: 0.1736 - val_loss: 0.1571 - val_mean_squared_error: 0.1571 - 942ms/epoch - 4ms/step\n",
      "Epoch 89/100\n",
      "250/250 - 1s - loss: 0.1631 - mean_squared_error: 0.1631 - val_loss: 0.1527 - val_mean_squared_error: 0.1527 - 943ms/epoch - 4ms/step\n",
      "Epoch 90/100\n",
      "250/250 - 1s - loss: 0.1533 - mean_squared_error: 0.1533 - val_loss: 0.1477 - val_mean_squared_error: 0.1477 - 1s/epoch - 4ms/step\n",
      "Epoch 91/100\n",
      "250/250 - 1s - loss: 0.1578 - mean_squared_error: 0.1578 - val_loss: 0.2459 - val_mean_squared_error: 0.2459 - 952ms/epoch - 4ms/step\n",
      "Epoch 92/100\n",
      "250/250 - 1s - loss: 0.1532 - mean_squared_error: 0.1532 - val_loss: 0.1392 - val_mean_squared_error: 0.1392 - 954ms/epoch - 4ms/step\n",
      "Epoch 93/100\n",
      "250/250 - 1s - loss: 0.1413 - mean_squared_error: 0.1413 - val_loss: 0.1553 - val_mean_squared_error: 0.1553 - 946ms/epoch - 4ms/step\n",
      "Epoch 94/100\n",
      "250/250 - 1s - loss: 0.1325 - mean_squared_error: 0.1325 - val_loss: 0.1428 - val_mean_squared_error: 0.1428 - 942ms/epoch - 4ms/step\n",
      "Epoch 95/100\n",
      "250/250 - 1s - loss: 0.1418 - mean_squared_error: 0.1418 - val_loss: 0.1236 - val_mean_squared_error: 0.1236 - 1s/epoch - 4ms/step\n",
      "Epoch 96/100\n",
      "250/250 - 1s - loss: 0.1260 - mean_squared_error: 0.1260 - val_loss: 0.1484 - val_mean_squared_error: 0.1484 - 1s/epoch - 4ms/step\n",
      "Epoch 97/100\n",
      "250/250 - 1s - loss: 0.1328 - mean_squared_error: 0.1328 - val_loss: 0.1134 - val_mean_squared_error: 0.1134 - 1s/epoch - 4ms/step\n",
      "Epoch 98/100\n",
      "250/250 - 1s - loss: 0.1179 - mean_squared_error: 0.1179 - val_loss: 0.1127 - val_mean_squared_error: 0.1127 - 1s/epoch - 4ms/step\n",
      "Epoch 99/100\n",
      "250/250 - 1s - loss: 0.1259 - mean_squared_error: 0.1259 - val_loss: 0.1465 - val_mean_squared_error: 0.1465 - 972ms/epoch - 4ms/step\n",
      "Epoch 100/100\n",
      "250/250 - 1s - loss: 0.1113 - mean_squared_error: 0.1113 - val_loss: 0.1128 - val_mean_squared_error: 0.1128 - 1s/epoch - 5ms/step\n"
     ]
    },
    {
     "data": {
      "text/plain": [
       "<keras.callbacks.History at 0x289ec8f40>"
      ]
     },
     "execution_count": 407,
     "metadata": {},
     "output_type": "execute_result"
    }
   ],
   "source": [
    "model.fit(x=[train_x], y=train_y, batch_size=32, epochs=100, verbose=2, validation_split = 0.2)"
   ]
  },
  {
   "cell_type": "code",
   "execution_count": 408,
   "id": "4e60d8d5",
   "metadata": {},
   "outputs": [],
   "source": [
    "model.save('/Users/changoug/Desktop/projects/coding/machine-learning-calculator/ml_mult.h5')"
   ]
  },
  {
   "cell_type": "code",
   "execution_count": 409,
   "id": "6e57bdfd",
   "metadata": {},
   "outputs": [
    {
     "name": "stdout",
     "output_type": "stream",
     "text": [
      "Model: \"sequential_50\"\n",
      "_________________________________________________________________\n",
      " Layer (type)                Output Shape              Param #   \n",
      "=================================================================\n",
      " dense_151 (Dense)           (None, 2)                 6         \n",
      "                                                                 \n",
      " dense_152 (Dense)           (None, 64)                192       \n",
      "                                                                 \n",
      " dense_153 (Dense)           (None, 1)                 65        \n",
      "                                                                 \n",
      "=================================================================\n",
      "Total params: 263\n",
      "Trainable params: 263\n",
      "Non-trainable params: 0\n",
      "_________________________________________________________________\n"
     ]
    }
   ],
   "source": [
    "new_model = tf.keras.models.load_model('/Users/changoug/Desktop/projects/coding/machine-learning-calculator/ml_mult.h5')\n",
    "\n",
    "# Check its architecture\n",
    "new_model.summary()"
   ]
  },
  {
   "cell_type": "code",
   "execution_count": 410,
   "id": "427f9f09",
   "metadata": {},
   "outputs": [
    {
     "name": "stdout",
     "output_type": "stream",
     "text": [
      "1/1 [==============================] - 0s 53ms/step\n",
      "[9 4] [[35.857693]] 36\n",
      "1/1 [==============================] - 0s 14ms/step\n",
      "[8 2] [[15.86584]] 16\n",
      "1/1 [==============================] - 0s 13ms/step\n",
      "[9 9] [[81.48166]] 81\n",
      "1/1 [==============================] - 0s 14ms/step\n",
      "[10  9] [[90.15167]] 90\n",
      "1/1 [==============================] - 0s 13ms/step\n",
      "[2 4] [[7.8709917]] 8\n",
      "1/1 [==============================] - 0s 12ms/step\n"
     ]
    },
    {
     "name": "stderr",
     "output_type": "stream",
     "text": [
      "2022-11-06 22:40:35.568158: I tensorflow/core/grappler/optimizers/custom_graph_optimizer_registry.cc:114] Plugin optimizer for device_type GPU is enabled.\n"
     ]
    },
    {
     "name": "stdout",
     "output_type": "stream",
     "text": [
      "[9 9] [[81.48166]] 81\n",
      "1/1 [==============================] - 0s 13ms/step\n",
      "[6 5] [[30.041111]] 30\n",
      "1/1 [==============================] - 0s 14ms/step\n",
      "[10  6] [[60.50424]] 60\n",
      "1/1 [==============================] - 0s 13ms/step\n",
      "[6 6] [[35.885765]] 36\n",
      "1/1 [==============================] - 0s 13ms/step\n",
      "[9 5] [[44.941074]] 45\n"
     ]
    }
   ],
   "source": [
    "\n",
    "for i in range(10):\n",
    "  ans = model.predict(np.array([train_x[i]]))\n",
    "  print(train_x[i], ans, train_y[i])"
   ]
  }
 ],
 "metadata": {
  "kernelspec": {
   "display_name": "Python 3.9.12 ('base')",
   "language": "python",
   "name": "python3"
  },
  "language_info": {
   "codemirror_mode": {
    "name": "ipython",
    "version": 3
   },
   "file_extension": ".py",
   "mimetype": "text/x-python",
   "name": "python",
   "nbconvert_exporter": "python",
   "pygments_lexer": "ipython3",
   "version": "3.9.13"
  },
  "vscode": {
   "interpreter": {
    "hash": "bdec6b8f84b0a1027f5bda989eb17059c86bd89cd83c19ad20191402419f2f0c"
   }
  }
 },
 "nbformat": 4,
 "nbformat_minor": 5
}
